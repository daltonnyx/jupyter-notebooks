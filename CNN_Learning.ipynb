{
 "cells": [
  {
   "cell_type": "markdown",
   "id": "false-silver",
   "metadata": {},
   "source": [
    "# First CNN Note Books"
   ]
  },
  {
   "cell_type": "code",
   "execution_count": 7,
   "id": "crude-myanmar",
   "metadata": {},
   "outputs": [],
   "source": [
    "import numpy as np\n",
    "\n",
    "class Conv3x3:\n",
    "    # A Convolution layer using 3x3 filters\n",
    "    \n",
    "    def __init__(self, num_filters):\n",
    "        self.num_filters =  num_filters\n",
    "        \n",
    "        # filters is a 3d array with dimessions (num_filters, 3, 3)\n",
    "        # Devide by 9 to reduce the variance of our initial value\n",
    "        # If the initial values are too large or too small, training the \n",
    "        # network will be ineffective. To learn more, read about Xavier \n",
    "        # Initialization.\n",
    "        self.filters = np.random.randn(num_filters, 3, 3) / 9\n",
    "    \n",
    "    def iterate_regions(self, image):\n",
    "        '''\n",
    "        Generates all possible 3x3 image regions using valid padding.\n",
    "        - image is a 2d numpy array\n",
    "        '''\n",
    "        h, w = image.shape\n",
    "        \n",
    "        for i in range(h - 2):\n",
    "            for j in range(w - 2):\n",
    "                im_region = image[i:(i + 3), j:(j + 3)]\n",
    "                yield im_region, i, j\n",
    "                \n",
    "    def forward(self, input):\n",
    "        '''\n",
    "        Performs a forward pass of conv layer using given input\n",
    "        Return a 3d numpy array with dimensions (h, w, num_filters).\n",
    "        - input is a 2d numpy array\n",
    "        '''\n",
    "        h, w = input.shape\n",
    "        output = np.zeros((h - 2, w - 2, self.num_filters))\n",
    "        for im_region, i, j in self.iterate_regions(input):\n",
    "            output[i, j] = np.sum(im_region * self.filters, axis = (1, 2))\n",
    "        return output\n",
    "        "
   ]
  },
  {
   "cell_type": "code",
   "execution_count": 10,
   "id": "applicable-consultancy",
   "metadata": {},
   "outputs": [
    {
     "name": "stdout",
     "output_type": "stream",
     "text": [
      "(26, 26, 8)\n"
     ]
    }
   ],
   "source": [
    "import mnist\n",
    "\n",
    "train_images = mnist.train_images()\n",
    "train_labels = mnist.train_labels()\n",
    "\n",
    "conv = Conv3x3(8)\n",
    "output = conv.forward(train_images[0])\n",
    "print(output.shape)"
   ]
  },
  {
   "cell_type": "code",
   "execution_count": null,
   "id": "round-bennett",
   "metadata": {},
   "outputs": [],
   "source": []
  }
 ],
 "metadata": {
  "kernelspec": {
   "display_name": "Python 3",
   "language": "python",
   "name": "python3"
  },
  "language_info": {
   "codemirror_mode": {
    "name": "ipython",
    "version": 3
   },
   "file_extension": ".py",
   "mimetype": "text/x-python",
   "name": "python",
   "nbconvert_exporter": "python",
   "pygments_lexer": "ipython3",
   "version": "3.7.9"
  }
 },
 "nbformat": 4,
 "nbformat_minor": 5
}
